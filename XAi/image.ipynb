{
 "cells": [
  {
   "cell_type": "code",
   "execution_count": 1,
   "metadata": {},
   "outputs": [
    {
     "name": "stdout",
     "output_type": "stream",
     "text": [
      "Requirement already satisfied: shap in c:\\users\\anuj bohra\\anaconda3\\lib\\site-packages (0.46.0)\n",
      "Requirement already satisfied: tensorflow in c:\\users\\anuj bohra\\appdata\\roaming\\python\\python311\\site-packages (2.16.2)\n",
      "Requirement already satisfied: matplotlib in c:\\users\\anuj bohra\\appdata\\roaming\\python\\python311\\site-packages (3.7.1)\n",
      "Requirement already satisfied: numpy in c:\\users\\anuj bohra\\appdata\\roaming\\python\\python311\\site-packages (from shap) (1.26.4)\n",
      "Requirement already satisfied: scipy in c:\\users\\anuj bohra\\appdata\\roaming\\python\\python311\\site-packages (from shap) (1.12.0)\n",
      "Requirement already satisfied: scikit-learn in c:\\users\\anuj bohra\\appdata\\roaming\\python\\python311\\site-packages (from shap) (1.4.1.post1)\n",
      "Requirement already satisfied: pandas in c:\\users\\anuj bohra\\appdata\\roaming\\python\\python311\\site-packages (from shap) (2.2.1)\n",
      "Requirement already satisfied: tqdm>=4.27.0 in c:\\users\\anuj bohra\\appdata\\roaming\\python\\python311\\site-packages (from shap) (4.66.5)\n",
      "Requirement already satisfied: packaging>20.9 in c:\\users\\anuj bohra\\appdata\\roaming\\python\\python311\\site-packages (from shap) (23.2)\n",
      "Requirement already satisfied: slicer==0.0.8 in c:\\users\\anuj bohra\\anaconda3\\lib\\site-packages (from shap) (0.0.8)\n",
      "Requirement already satisfied: numba in c:\\users\\anuj bohra\\appdata\\roaming\\python\\python311\\site-packages (from shap) (0.59.1)\n",
      "Requirement already satisfied: cloudpickle in c:\\users\\anuj bohra\\anaconda3\\lib\\site-packages (from shap) (2.2.1)\n",
      "Requirement already satisfied: tensorflow-intel==2.16.2 in c:\\users\\anuj bohra\\appdata\\roaming\\python\\python311\\site-packages (from tensorflow) (2.16.2)\n",
      "Requirement already satisfied: absl-py>=1.0.0 in c:\\users\\anuj bohra\\appdata\\roaming\\python\\python311\\site-packages (from tensorflow-intel==2.16.2->tensorflow) (2.0.0)\n",
      "Requirement already satisfied: astunparse>=1.6.0 in c:\\users\\anuj bohra\\appdata\\roaming\\python\\python311\\site-packages (from tensorflow-intel==2.16.2->tensorflow) (1.6.3)\n",
      "Requirement already satisfied: flatbuffers>=23.5.26 in c:\\users\\anuj bohra\\appdata\\roaming\\python\\python311\\site-packages (from tensorflow-intel==2.16.2->tensorflow) (23.5.26)\n",
      "Requirement already satisfied: gast!=0.5.0,!=0.5.1,!=0.5.2,>=0.2.1 in c:\\users\\anuj bohra\\appdata\\roaming\\python\\python311\\site-packages (from tensorflow-intel==2.16.2->tensorflow) (0.4.0)\n",
      "Requirement already satisfied: google-pasta>=0.1.1 in c:\\users\\anuj bohra\\appdata\\roaming\\python\\python311\\site-packages (from tensorflow-intel==2.16.2->tensorflow) (0.2.0)\n",
      "Requirement already satisfied: h5py>=3.10.0 in c:\\users\\anuj bohra\\appdata\\roaming\\python\\python311\\site-packages (from tensorflow-intel==2.16.2->tensorflow) (3.11.0)\n",
      "Requirement already satisfied: libclang>=13.0.0 in c:\\users\\anuj bohra\\appdata\\roaming\\python\\python311\\site-packages (from tensorflow-intel==2.16.2->tensorflow) (16.0.6)\n",
      "Requirement already satisfied: ml-dtypes~=0.3.1 in c:\\users\\anuj bohra\\appdata\\roaming\\python\\python311\\site-packages (from tensorflow-intel==2.16.2->tensorflow) (0.3.2)\n",
      "Requirement already satisfied: opt-einsum>=2.3.2 in c:\\users\\anuj bohra\\appdata\\roaming\\python\\python311\\site-packages (from tensorflow-intel==2.16.2->tensorflow) (3.3.0)\n",
      "Requirement already satisfied: protobuf!=4.21.0,!=4.21.1,!=4.21.2,!=4.21.3,!=4.21.4,!=4.21.5,<5.0.0dev,>=3.20.3 in c:\\users\\anuj bohra\\appdata\\roaming\\python\\python311\\site-packages (from tensorflow-intel==2.16.2->tensorflow) (4.25.3)\n",
      "Requirement already satisfied: requests<3,>=2.21.0 in c:\\users\\anuj bohra\\appdata\\roaming\\python\\python311\\site-packages (from tensorflow-intel==2.16.2->tensorflow) (2.32.3)\n",
      "Requirement already satisfied: setuptools in c:\\users\\anuj bohra\\anaconda3\\lib\\site-packages (from tensorflow-intel==2.16.2->tensorflow) (68.2.2)\n",
      "Requirement already satisfied: six>=1.12.0 in c:\\users\\anuj bohra\\appdata\\roaming\\python\\python311\\site-packages (from tensorflow-intel==2.16.2->tensorflow) (1.16.0)\n",
      "Requirement already satisfied: termcolor>=1.1.0 in c:\\users\\anuj bohra\\appdata\\roaming\\python\\python311\\site-packages (from tensorflow-intel==2.16.2->tensorflow) (2.3.0)\n",
      "Requirement already satisfied: typing-extensions>=3.6.6 in c:\\users\\anuj bohra\\appdata\\roaming\\python\\python311\\site-packages (from tensorflow-intel==2.16.2->tensorflow) (4.10.0)\n",
      "Requirement already satisfied: wrapt>=1.11.0 in c:\\users\\anuj bohra\\appdata\\roaming\\python\\python311\\site-packages (from tensorflow-intel==2.16.2->tensorflow) (1.14.1)\n",
      "Requirement already satisfied: grpcio<2.0,>=1.24.3 in c:\\users\\anuj bohra\\appdata\\roaming\\python\\python311\\site-packages (from tensorflow-intel==2.16.2->tensorflow) (1.62.1)\n",
      "Requirement already satisfied: tensorboard<2.17,>=2.16 in c:\\users\\anuj bohra\\appdata\\roaming\\python\\python311\\site-packages (from tensorflow-intel==2.16.2->tensorflow) (2.16.2)\n",
      "Requirement already satisfied: keras>=3.0.0 in c:\\users\\anuj bohra\\appdata\\roaming\\python\\python311\\site-packages (from tensorflow-intel==2.16.2->tensorflow) (3.4.1)\n",
      "Requirement already satisfied: tensorflow-io-gcs-filesystem>=0.23.1 in c:\\users\\anuj bohra\\appdata\\roaming\\python\\python311\\site-packages (from tensorflow-intel==2.16.2->tensorflow) (0.31.0)\n",
      "Requirement already satisfied: contourpy>=1.0.1 in c:\\users\\anuj bohra\\appdata\\roaming\\python\\python311\\site-packages (from matplotlib) (1.0.7)\n",
      "Requirement already satisfied: cycler>=0.10 in c:\\users\\anuj bohra\\appdata\\roaming\\python\\python311\\site-packages (from matplotlib) (0.11.0)\n",
      "Requirement already satisfied: fonttools>=4.22.0 in c:\\users\\anuj bohra\\appdata\\roaming\\python\\python311\\site-packages (from matplotlib) (4.39.3)\n",
      "Requirement already satisfied: kiwisolver>=1.0.1 in c:\\users\\anuj bohra\\appdata\\roaming\\python\\python311\\site-packages (from matplotlib) (1.4.4)\n",
      "Requirement already satisfied: pillow>=6.2.0 in c:\\users\\anuj bohra\\appdata\\roaming\\python\\python311\\site-packages (from matplotlib) (10.3.0)\n",
      "Requirement already satisfied: pyparsing>=2.3.1 in c:\\users\\anuj bohra\\appdata\\roaming\\python\\python311\\site-packages (from matplotlib) (3.1.2)\n",
      "Requirement already satisfied: python-dateutil>=2.7 in c:\\users\\anuj bohra\\appdata\\roaming\\python\\python311\\site-packages (from matplotlib) (2.9.0.post0)\n",
      "Requirement already satisfied: colorama in c:\\users\\anuj bohra\\appdata\\roaming\\python\\python311\\site-packages (from tqdm>=4.27.0->shap) (0.4.6)\n",
      "Requirement already satisfied: llvmlite<0.43,>=0.42.0dev0 in c:\\users\\anuj bohra\\appdata\\roaming\\python\\python311\\site-packages (from numba->shap) (0.42.0)\n",
      "Requirement already satisfied: pytz>=2020.1 in c:\\users\\anuj bohra\\appdata\\roaming\\python\\python311\\site-packages (from pandas->shap) (2024.1)\n",
      "Requirement already satisfied: tzdata>=2022.7 in c:\\users\\anuj bohra\\appdata\\roaming\\python\\python311\\site-packages (from pandas->shap) (2024.1)\n",
      "Requirement already satisfied: joblib>=1.2.0 in c:\\users\\anuj bohra\\appdata\\roaming\\python\\python311\\site-packages (from scikit-learn->shap) (1.3.2)\n",
      "Requirement already satisfied: threadpoolctl>=2.0.0 in c:\\users\\anuj bohra\\appdata\\roaming\\python\\python311\\site-packages (from scikit-learn->shap) (3.4.0)\n",
      "Requirement already satisfied: wheel<1.0,>=0.23.0 in c:\\users\\anuj bohra\\appdata\\roaming\\python\\python311\\site-packages (from astunparse>=1.6.0->tensorflow-intel==2.16.2->tensorflow) (0.41.2)\n",
      "Requirement already satisfied: rich in c:\\users\\anuj bohra\\appdata\\roaming\\python\\python311\\site-packages (from keras>=3.0.0->tensorflow-intel==2.16.2->tensorflow) (13.7.0)\n",
      "Requirement already satisfied: namex in c:\\users\\anuj bohra\\appdata\\roaming\\python\\python311\\site-packages (from keras>=3.0.0->tensorflow-intel==2.16.2->tensorflow) (0.0.8)\n",
      "Requirement already satisfied: optree in c:\\users\\anuj bohra\\appdata\\roaming\\python\\python311\\site-packages (from keras>=3.0.0->tensorflow-intel==2.16.2->tensorflow) (0.12.1)\n",
      "Requirement already satisfied: charset-normalizer<4,>=2 in c:\\users\\anuj bohra\\appdata\\roaming\\python\\python311\\site-packages (from requests<3,>=2.21.0->tensorflow-intel==2.16.2->tensorflow) (3.3.2)\n",
      "Requirement already satisfied: idna<4,>=2.5 in c:\\users\\anuj bohra\\appdata\\roaming\\python\\python311\\site-packages (from requests<3,>=2.21.0->tensorflow-intel==2.16.2->tensorflow) (3.6)\n",
      "Requirement already satisfied: urllib3<3,>=1.21.1 in c:\\users\\anuj bohra\\appdata\\roaming\\python\\python311\\site-packages (from requests<3,>=2.21.0->tensorflow-intel==2.16.2->tensorflow) (2.2.2)\n",
      "Requirement already satisfied: certifi>=2017.4.17 in c:\\users\\anuj bohra\\appdata\\roaming\\python\\python311\\site-packages (from requests<3,>=2.21.0->tensorflow-intel==2.16.2->tensorflow) (2024.2.2)\n",
      "Requirement already satisfied: markdown>=2.6.8 in c:\\users\\anuj bohra\\appdata\\roaming\\python\\python311\\site-packages (from tensorboard<2.17,>=2.16->tensorflow-intel==2.16.2->tensorflow) (3.6)\n",
      "Requirement already satisfied: tensorboard-data-server<0.8.0,>=0.7.0 in c:\\users\\anuj bohra\\appdata\\roaming\\python\\python311\\site-packages (from tensorboard<2.17,>=2.16->tensorflow-intel==2.16.2->tensorflow) (0.7.1)\n",
      "Requirement already satisfied: werkzeug>=1.0.1 in c:\\users\\anuj bohra\\appdata\\roaming\\python\\python311\\site-packages (from tensorboard<2.17,>=2.16->tensorflow-intel==2.16.2->tensorflow) (3.0.1)\n",
      "Requirement already satisfied: MarkupSafe>=2.1.1 in c:\\users\\anuj bohra\\appdata\\roaming\\python\\python311\\site-packages (from werkzeug>=1.0.1->tensorboard<2.17,>=2.16->tensorflow-intel==2.16.2->tensorflow) (2.1.5)\n",
      "Requirement already satisfied: markdown-it-py>=2.2.0 in c:\\users\\anuj bohra\\appdata\\roaming\\python\\python311\\site-packages (from rich->keras>=3.0.0->tensorflow-intel==2.16.2->tensorflow) (3.0.0)\n",
      "Requirement already satisfied: pygments<3.0.0,>=2.13.0 in c:\\users\\anuj bohra\\anaconda3\\lib\\site-packages (from rich->keras>=3.0.0->tensorflow-intel==2.16.2->tensorflow) (2.15.1)\n",
      "Requirement already satisfied: mdurl~=0.1 in c:\\users\\anuj bohra\\appdata\\roaming\\python\\python311\\site-packages (from markdown-it-py>=2.2.0->rich->keras>=3.0.0->tensorflow-intel==2.16.2->tensorflow) (0.1.2)\n",
      "Note: you may need to restart the kernel to use updated packages.\n"
     ]
    }
   ],
   "source": [
    "%pip install shap tensorflow matplotlib\n"
   ]
  },
  {
   "cell_type": "code",
   "execution_count": 2,
   "metadata": {},
   "outputs": [
    {
     "name": "stderr",
     "output_type": "stream",
     "text": [
      "C:\\Users\\Anuj Bohra\\AppData\\Roaming\\Python\\Python311\\site-packages\\pandas\\core\\arrays\\masked.py:60: UserWarning: Pandas requires version '1.3.6' or newer of 'bottleneck' (version '1.3.5' currently installed).\n",
      "  from pandas.core import (\n"
     ]
    },
    {
     "name": "stdout",
     "output_type": "stream",
     "text": [
      "\u001b[1m1/1\u001b[0m \u001b[32m━━━━━━━━━━━━━━━━━━━━\u001b[0m\u001b[37m\u001b[0m \u001b[1m2s\u001b[0m 2s/step\n",
      "Predicted: [('n02504458', 'African_elephant', 0.6307739), ('n01871265', 'tusker', 0.3514564), ('n02504013', 'Indian_elephant', 0.017682679)]\n"
     ]
    }
   ],
   "source": [
    "import tensorflow as tf\n",
    "import shap\n",
    "import numpy as np\n",
    "import matplotlib.pyplot as plt\n",
    "from tensorflow.keras.applications.vgg16 import VGG16, preprocess_input, decode_predictions\n",
    "from tensorflow.keras.preprocessing import image\n",
    "\n",
    "# Using VGG16 \n",
    "model = VGG16(weights='imagenet')\n",
    "\n",
    "img_path = r'C:\\Users\\Anuj Bohra\\Desktop\\INIT_LecSeries\\XAi\\Elephant.jpg'  # Path to an example image\n",
    "img = image.load_img(img_path, target_size=(224, 224))\n",
    "img_data = image.img_to_array(img)\n",
    "img_data = np.expand_dims(img_data, axis=0)\n",
    "img_data = preprocess_input(img_data)\n",
    "\n",
    "#predicton\n",
    "preds = model.predict(img_data)\n",
    "print('Predicted:', decode_predictions(preds, top=3)[0])"
   ]
  },
  {
   "cell_type": "code",
   "execution_count": null,
   "metadata": {},
   "outputs": [
    {
     "name": "stderr",
     "output_type": "stream",
     "text": [
      "c:\\Users\\Anuj Bohra\\anaconda3\\Lib\\site-packages\\shap\\explainers\\_deep\\deep_tf.py:99: UserWarning: Your TensorFlow version is newer than 2.4.0 and so graph support has been removed in eager mode and some static graphs may not be supported. See PR #1483 for discussion.\n",
      "  warnings.warn(\"Your TensorFlow version is newer than 2.4.0 and so graph support has been removed in eager mode and some static graphs may not be supported. See PR #1483 for discussion.\")\n"
     ]
    },
    {
     "name": "stdout",
     "output_type": "stream",
     "text": [
      "WARNING:tensorflow:5 out of the last 5 calls to <function TFDeep.phi_symbolic.<locals>.grad_graph at 0x0000026EEA6AD120> triggered tf.function retracing. Tracing is expensive and the excessive number of tracings could be due to (1) creating @tf.function repeatedly in a loop, (2) passing tensors with different shapes, (3) passing Python objects instead of tensors. For (1), please define your @tf.function outside of the loop. For (2), @tf.function has reduce_retracing=True option that can avoid unnecessary retracing. For (3), please refer to https://www.tensorflow.org/guide/function#controlling_retracing and https://www.tensorflow.org/api_docs/python/tf/function for  more details.\n",
      "WARNING:tensorflow:6 out of the last 6 calls to <function TFDeep.phi_symbolic.<locals>.grad_graph at 0x0000026EEA6FCAE0> triggered tf.function retracing. Tracing is expensive and the excessive number of tracings could be due to (1) creating @tf.function repeatedly in a loop, (2) passing tensors with different shapes, (3) passing Python objects instead of tensors. For (1), please define your @tf.function outside of the loop. For (2), @tf.function has reduce_retracing=True option that can avoid unnecessary retracing. For (3), please refer to https://www.tensorflow.org/guide/function#controlling_retracing and https://www.tensorflow.org/api_docs/python/tf/function for  more details.\n"
     ]
    }
   ],
   "source": [
    "# def f(images):\n",
    "#     return model.predict(preprocess_input(images))\n",
    "\n",
    "# # Here, deepexplainer is used to define why the prediction is supported with a graph\n",
    "# explainer = shap.DeepExplainer(model, img_data)\n",
    "# shap_values = explainer.shap_values(img_data)\n",
    "# shap.image_plot(shap_values, img_data)"
   ]
  },
  {
   "cell_type": "code",
   "execution_count": 4,
   "metadata": {},
   "outputs": [
    {
     "name": "stdout",
     "output_type": "stream",
     "text": [
      "Collecting lime\n",
      "  Downloading lime-0.2.0.1.tar.gz (275 kB)\n",
      "     ---------------------------------------- 0.0/275.7 kB ? eta -:--:--\n",
      "     ------------------------------------ - 266.2/275.7 kB 8.3 MB/s eta 0:00:01\n",
      "     ------------------------------------ - 266.2/275.7 kB 8.3 MB/s eta 0:00:01\n",
      "     -------------------------------------- 275.7/275.7 kB 2.8 MB/s eta 0:00:00\n",
      "  Preparing metadata (setup.py): started\n",
      "  Preparing metadata (setup.py): finished with status 'done'\n",
      "Requirement already satisfied: tensorflow in c:\\users\\anuj bohra\\appdata\\roaming\\python\\python311\\site-packages (2.16.2)\n",
      "Requirement already satisfied: matplotlib in c:\\users\\anuj bohra\\appdata\\roaming\\python\\python311\\site-packages (from lime) (3.7.1)\n",
      "Requirement already satisfied: numpy in c:\\users\\anuj bohra\\appdata\\roaming\\python\\python311\\site-packages (from lime) (1.26.4)\n",
      "Requirement already satisfied: scipy in c:\\users\\anuj bohra\\appdata\\roaming\\python\\python311\\site-packages (from lime) (1.12.0)\n",
      "Requirement already satisfied: tqdm in c:\\users\\anuj bohra\\appdata\\roaming\\python\\python311\\site-packages (from lime) (4.66.5)\n",
      "Requirement already satisfied: scikit-learn>=0.18 in c:\\users\\anuj bohra\\appdata\\roaming\\python\\python311\\site-packages (from lime) (1.4.1.post1)\n",
      "Requirement already satisfied: scikit-image>=0.12 in c:\\users\\anuj bohra\\anaconda3\\lib\\site-packages (from lime) (0.20.0)\n",
      "Requirement already satisfied: tensorflow-intel==2.16.2 in c:\\users\\anuj bohra\\appdata\\roaming\\python\\python311\\site-packages (from tensorflow) (2.16.2)\n",
      "Requirement already satisfied: absl-py>=1.0.0 in c:\\users\\anuj bohra\\appdata\\roaming\\python\\python311\\site-packages (from tensorflow-intel==2.16.2->tensorflow) (2.0.0)\n",
      "Requirement already satisfied: astunparse>=1.6.0 in c:\\users\\anuj bohra\\appdata\\roaming\\python\\python311\\site-packages (from tensorflow-intel==2.16.2->tensorflow) (1.6.3)\n",
      "Requirement already satisfied: flatbuffers>=23.5.26 in c:\\users\\anuj bohra\\appdata\\roaming\\python\\python311\\site-packages (from tensorflow-intel==2.16.2->tensorflow) (23.5.26)\n",
      "Requirement already satisfied: gast!=0.5.0,!=0.5.1,!=0.5.2,>=0.2.1 in c:\\users\\anuj bohra\\appdata\\roaming\\python\\python311\\site-packages (from tensorflow-intel==2.16.2->tensorflow) (0.4.0)\n",
      "Requirement already satisfied: google-pasta>=0.1.1 in c:\\users\\anuj bohra\\appdata\\roaming\\python\\python311\\site-packages (from tensorflow-intel==2.16.2->tensorflow) (0.2.0)\n",
      "Requirement already satisfied: h5py>=3.10.0 in c:\\users\\anuj bohra\\appdata\\roaming\\python\\python311\\site-packages (from tensorflow-intel==2.16.2->tensorflow) (3.11.0)\n",
      "Requirement already satisfied: libclang>=13.0.0 in c:\\users\\anuj bohra\\appdata\\roaming\\python\\python311\\site-packages (from tensorflow-intel==2.16.2->tensorflow) (16.0.6)\n",
      "Requirement already satisfied: ml-dtypes~=0.3.1 in c:\\users\\anuj bohra\\appdata\\roaming\\python\\python311\\site-packages (from tensorflow-intel==2.16.2->tensorflow) (0.3.2)\n",
      "Requirement already satisfied: opt-einsum>=2.3.2 in c:\\users\\anuj bohra\\appdata\\roaming\\python\\python311\\site-packages (from tensorflow-intel==2.16.2->tensorflow) (3.3.0)\n",
      "Requirement already satisfied: packaging in c:\\users\\anuj bohra\\appdata\\roaming\\python\\python311\\site-packages (from tensorflow-intel==2.16.2->tensorflow) (23.2)\n",
      "Requirement already satisfied: protobuf!=4.21.0,!=4.21.1,!=4.21.2,!=4.21.3,!=4.21.4,!=4.21.5,<5.0.0dev,>=3.20.3 in c:\\users\\anuj bohra\\appdata\\roaming\\python\\python311\\site-packages (from tensorflow-intel==2.16.2->tensorflow) (4.25.3)\n",
      "Requirement already satisfied: requests<3,>=2.21.0 in c:\\users\\anuj bohra\\appdata\\roaming\\python\\python311\\site-packages (from tensorflow-intel==2.16.2->tensorflow) (2.32.3)\n",
      "Requirement already satisfied: setuptools in c:\\users\\anuj bohra\\anaconda3\\lib\\site-packages (from tensorflow-intel==2.16.2->tensorflow) (68.2.2)\n",
      "Requirement already satisfied: six>=1.12.0 in c:\\users\\anuj bohra\\appdata\\roaming\\python\\python311\\site-packages (from tensorflow-intel==2.16.2->tensorflow) (1.16.0)\n",
      "Requirement already satisfied: termcolor>=1.1.0 in c:\\users\\anuj bohra\\appdata\\roaming\\python\\python311\\site-packages (from tensorflow-intel==2.16.2->tensorflow) (2.3.0)\n",
      "Requirement already satisfied: typing-extensions>=3.6.6 in c:\\users\\anuj bohra\\appdata\\roaming\\python\\python311\\site-packages (from tensorflow-intel==2.16.2->tensorflow) (4.10.0)\n",
      "Requirement already satisfied: wrapt>=1.11.0 in c:\\users\\anuj bohra\\appdata\\roaming\\python\\python311\\site-packages (from tensorflow-intel==2.16.2->tensorflow) (1.14.1)\n",
      "Requirement already satisfied: grpcio<2.0,>=1.24.3 in c:\\users\\anuj bohra\\appdata\\roaming\\python\\python311\\site-packages (from tensorflow-intel==2.16.2->tensorflow) (1.62.1)\n",
      "Requirement already satisfied: tensorboard<2.17,>=2.16 in c:\\users\\anuj bohra\\appdata\\roaming\\python\\python311\\site-packages (from tensorflow-intel==2.16.2->tensorflow) (2.16.2)\n",
      "Requirement already satisfied: keras>=3.0.0 in c:\\users\\anuj bohra\\appdata\\roaming\\python\\python311\\site-packages (from tensorflow-intel==2.16.2->tensorflow) (3.4.1)\n",
      "Requirement already satisfied: tensorflow-io-gcs-filesystem>=0.23.1 in c:\\users\\anuj bohra\\appdata\\roaming\\python\\python311\\site-packages (from tensorflow-intel==2.16.2->tensorflow) (0.31.0)\n",
      "Requirement already satisfied: networkx>=2.8 in c:\\users\\anuj bohra\\appdata\\roaming\\python\\python311\\site-packages (from scikit-image>=0.12->lime) (3.3)\n",
      "Requirement already satisfied: pillow>=9.0.1 in c:\\users\\anuj bohra\\appdata\\roaming\\python\\python311\\site-packages (from scikit-image>=0.12->lime) (10.3.0)\n",
      "Requirement already satisfied: imageio>=2.4.1 in c:\\users\\anuj bohra\\anaconda3\\lib\\site-packages (from scikit-image>=0.12->lime) (2.26.0)\n",
      "Requirement already satisfied: tifffile>=2019.7.26 in c:\\users\\anuj bohra\\anaconda3\\lib\\site-packages (from scikit-image>=0.12->lime) (2021.7.2)\n",
      "Requirement already satisfied: PyWavelets>=1.1.1 in c:\\users\\anuj bohra\\anaconda3\\lib\\site-packages (from scikit-image>=0.12->lime) (1.4.1)\n",
      "Requirement already satisfied: lazy_loader>=0.1 in c:\\users\\anuj bohra\\appdata\\roaming\\python\\python311\\site-packages (from scikit-image>=0.12->lime) (0.3)\n",
      "Requirement already satisfied: joblib>=1.2.0 in c:\\users\\anuj bohra\\appdata\\roaming\\python\\python311\\site-packages (from scikit-learn>=0.18->lime) (1.3.2)\n",
      "Requirement already satisfied: threadpoolctl>=2.0.0 in c:\\users\\anuj bohra\\appdata\\roaming\\python\\python311\\site-packages (from scikit-learn>=0.18->lime) (3.4.0)\n",
      "Requirement already satisfied: contourpy>=1.0.1 in c:\\users\\anuj bohra\\appdata\\roaming\\python\\python311\\site-packages (from matplotlib->lime) (1.0.7)\n",
      "Requirement already satisfied: cycler>=0.10 in c:\\users\\anuj bohra\\appdata\\roaming\\python\\python311\\site-packages (from matplotlib->lime) (0.11.0)\n",
      "Requirement already satisfied: fonttools>=4.22.0 in c:\\users\\anuj bohra\\appdata\\roaming\\python\\python311\\site-packages (from matplotlib->lime) (4.39.3)\n",
      "Requirement already satisfied: kiwisolver>=1.0.1 in c:\\users\\anuj bohra\\appdata\\roaming\\python\\python311\\site-packages (from matplotlib->lime) (1.4.4)\n",
      "Requirement already satisfied: pyparsing>=2.3.1 in c:\\users\\anuj bohra\\appdata\\roaming\\python\\python311\\site-packages (from matplotlib->lime) (3.1.2)\n",
      "Requirement already satisfied: python-dateutil>=2.7 in c:\\users\\anuj bohra\\appdata\\roaming\\python\\python311\\site-packages (from matplotlib->lime) (2.9.0.post0)\n",
      "Requirement already satisfied: colorama in c:\\users\\anuj bohra\\appdata\\roaming\\python\\python311\\site-packages (from tqdm->lime) (0.4.6)\n",
      "Requirement already satisfied: wheel<1.0,>=0.23.0 in c:\\users\\anuj bohra\\appdata\\roaming\\python\\python311\\site-packages (from astunparse>=1.6.0->tensorflow-intel==2.16.2->tensorflow) (0.41.2)\n",
      "Requirement already satisfied: rich in c:\\users\\anuj bohra\\appdata\\roaming\\python\\python311\\site-packages (from keras>=3.0.0->tensorflow-intel==2.16.2->tensorflow) (13.7.0)\n",
      "Requirement already satisfied: namex in c:\\users\\anuj bohra\\appdata\\roaming\\python\\python311\\site-packages (from keras>=3.0.0->tensorflow-intel==2.16.2->tensorflow) (0.0.8)\n",
      "Requirement already satisfied: optree in c:\\users\\anuj bohra\\appdata\\roaming\\python\\python311\\site-packages (from keras>=3.0.0->tensorflow-intel==2.16.2->tensorflow) (0.12.1)\n",
      "Requirement already satisfied: charset-normalizer<4,>=2 in c:\\users\\anuj bohra\\appdata\\roaming\\python\\python311\\site-packages (from requests<3,>=2.21.0->tensorflow-intel==2.16.2->tensorflow) (3.3.2)\n",
      "Requirement already satisfied: idna<4,>=2.5 in c:\\users\\anuj bohra\\appdata\\roaming\\python\\python311\\site-packages (from requests<3,>=2.21.0->tensorflow-intel==2.16.2->tensorflow) (3.6)\n",
      "Requirement already satisfied: urllib3<3,>=1.21.1 in c:\\users\\anuj bohra\\appdata\\roaming\\python\\python311\\site-packages (from requests<3,>=2.21.0->tensorflow-intel==2.16.2->tensorflow) (2.2.2)\n",
      "Requirement already satisfied: certifi>=2017.4.17 in c:\\users\\anuj bohra\\appdata\\roaming\\python\\python311\\site-packages (from requests<3,>=2.21.0->tensorflow-intel==2.16.2->tensorflow) (2024.2.2)\n",
      "Requirement already satisfied: markdown>=2.6.8 in c:\\users\\anuj bohra\\appdata\\roaming\\python\\python311\\site-packages (from tensorboard<2.17,>=2.16->tensorflow-intel==2.16.2->tensorflow) (3.6)\n",
      "Requirement already satisfied: tensorboard-data-server<0.8.0,>=0.7.0 in c:\\users\\anuj bohra\\appdata\\roaming\\python\\python311\\site-packages (from tensorboard<2.17,>=2.16->tensorflow-intel==2.16.2->tensorflow) (0.7.1)\n",
      "Requirement already satisfied: werkzeug>=1.0.1 in c:\\users\\anuj bohra\\appdata\\roaming\\python\\python311\\site-packages (from tensorboard<2.17,>=2.16->tensorflow-intel==2.16.2->tensorflow) (3.0.1)\n",
      "Requirement already satisfied: MarkupSafe>=2.1.1 in c:\\users\\anuj bohra\\appdata\\roaming\\python\\python311\\site-packages (from werkzeug>=1.0.1->tensorboard<2.17,>=2.16->tensorflow-intel==2.16.2->tensorflow) (2.1.5)\n",
      "Requirement already satisfied: markdown-it-py>=2.2.0 in c:\\users\\anuj bohra\\appdata\\roaming\\python\\python311\\site-packages (from rich->keras>=3.0.0->tensorflow-intel==2.16.2->tensorflow) (3.0.0)\n",
      "Requirement already satisfied: pygments<3.0.0,>=2.13.0 in c:\\users\\anuj bohra\\anaconda3\\lib\\site-packages (from rich->keras>=3.0.0->tensorflow-intel==2.16.2->tensorflow) (2.15.1)\n",
      "Requirement already satisfied: mdurl~=0.1 in c:\\users\\anuj bohra\\appdata\\roaming\\python\\python311\\site-packages (from markdown-it-py>=2.2.0->rich->keras>=3.0.0->tensorflow-intel==2.16.2->tensorflow) (0.1.2)\n",
      "Building wheels for collected packages: lime\n",
      "  Building wheel for lime (setup.py): started\n",
      "  Building wheel for lime (setup.py): finished with status 'done'\n",
      "  Created wheel for lime: filename=lime-0.2.0.1-py3-none-any.whl size=283842 sha256=8fc0b1fc08cd27be220d1a6dd99581e60ab8a5a52372a2f683952f071e65fdd6\n",
      "  Stored in directory: c:\\users\\anuj bohra\\appdata\\local\\pip\\cache\\wheels\\85\\fa\\a3\\9c2d44c9f3cd77cf4e533b58900b2bf4487f2a17e8ec212a3d\n",
      "Successfully built lime\n",
      "Installing collected packages: lime\n",
      "Successfully installed lime-0.2.0.1\n",
      "Note: you may need to restart the kernel to use updated packages.\n"
     ]
    }
   ],
   "source": [
    "%pip install lime tensorflow"
   ]
  },
  {
   "cell_type": "code",
   "execution_count": null,
   "metadata": {},
   "outputs": [],
   "source": [
    "import lime\n",
    "from lime import lime_image\n",
    "from skimage.segmentation import mark_boundaries\n",
    "\n",
    "# Create a LIME image explainer\n",
    "explainer = lime_image.LimeImageExplainer()\n",
    "\n",
    "# Explain the prediction on the image\n",
    "explanation = explainer.explain_instance(img_data[0].astype('double'), model.predict, top_labels=5, hide_color=0, num_samples=1000)\n",
    "\n",
    "# Get the image and mask for the top class\n",
    "temp, mask = explanation.get_image_and_mask(explanation.top_labels[0], positive_only=True, num_features=5, hide_rest=False)\n",
    "\n",
    "# Plot the explanation\n",
    "plt.imshow(mark_boundaries(temp / 2 + 0.5, mask))\n",
    "plt.show()"
   ]
  },
  {
   "cell_type": "code",
   "execution_count": null,
   "metadata": {},
   "outputs": [],
   "source": [
    "import tensorflow as tf\n",
    "import shap\n",
    "import numpy as np\n",
    "import matplotlib.pyplot as plt\n",
    "from tensorflow.keras.applications.mobilenet_v2 import MobileNetV2, preprocess_input, decode_predictions\n",
    "from tensorflow.keras.preprocessing.image import load_img, img_to_array\n",
    "\n",
    "# Load the pre-trained MobileNetV2 model\n",
    "base_model = MobileNetV2(weights='imagenet', include_top=False, input_shape=(224, 224, 3))\n",
    "model = tf.keras.Sequential([base_model, tf.keras.layers.GlobalAveragePooling2D(), tf.keras.layers.Dense(1, activation='sigmoid')])\n",
    "model.compile(optimizer='adam', loss='binary_crossentropy', metrics=['accuracy'])\n",
    "\n",
    "# Load and preprocess an example image\n",
    "img_path = r'C:\\Users\\Anuj Bohra\\Desktop\\INIT_LecSeries\\XAi\\xRay.jpg'  # Path to an example image\n",
    "img = load_img(img_path, target_size=(224, 224))\n",
    "img_data = img_to_array(img)\n",
    "img_data = np.expand_dims(img_data, axis=0)\n",
    "img_data = preprocess_input(img_data)\n",
    "\n",
    "# Predict the image class\n",
    "preds = model.predict(img_data)\n",
    "print('Predicted:', preds)\n",
    "\n",
    "# Define a function that processes a batch of images\n",
    "@tf.function\n",
    "def f(images):\n",
    "    return model(images)\n",
    "\n",
    "# Use the SHAP DeepExplainer to explain the predictions\n",
    "explainer = shap.DeepExplainer(f, img_data)\n",
    "shap_values = explainer.shap_values(img_data)\n",
    "\n",
    "# Plot the explanations\n",
    "shap.image_plot(shap_values, img_data)\n"
   ]
  },
  {
   "cell_type": "code",
   "execution_count": null,
   "metadata": {},
   "outputs": [],
   "source": []
  },
  {
   "cell_type": "code",
   "execution_count": null,
   "metadata": {},
   "outputs": [],
   "source": []
  },
  {
   "cell_type": "code",
   "execution_count": null,
   "metadata": {},
   "outputs": [],
   "source": []
  }
 ],
 "metadata": {
  "kernelspec": {
   "display_name": "base",
   "language": "python",
   "name": "python3"
  },
  "language_info": {
   "codemirror_mode": {
    "name": "ipython",
    "version": 3
   },
   "file_extension": ".py",
   "mimetype": "text/x-python",
   "name": "python",
   "nbconvert_exporter": "python",
   "pygments_lexer": "ipython3",
   "version": "3.11.3"
  }
 },
 "nbformat": 4,
 "nbformat_minor": 2
}
